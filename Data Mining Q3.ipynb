{
 "cells": [
  {
   "cell_type": "code",
   "execution_count": 47,
   "metadata": {},
   "outputs": [],
   "source": [
    "import pandas as pd\n",
    "import scipy\n",
    "from sklearn.datasets import load_wine\n",
    "import numpy as np\n"
   ]
  },
  {
   "cell_type": "code",
   "execution_count": 48,
   "metadata": {},
   "outputs": [],
   "source": [
    "data = load_wine()"
   ]
  },
  {
   "cell_type": "code",
   "execution_count": 49,
   "metadata": {},
   "outputs": [
    {
     "data": {
      "text/plain": [
       "['class_0', 'class_1', 'class_2']"
      ]
     },
     "execution_count": 49,
     "metadata": {},
     "output_type": "execute_result"
    }
   ],
   "source": [
    "data.target[[10, 80, 140]]\n",
    "np.array([0, 1, 2])\n",
    "list(data.target_names)\n",
    "['class_0', 'class_1', 'class_2']"
   ]
  },
  {
   "cell_type": "code",
   "execution_count": 67,
   "metadata": {},
   "outputs": [
    {
     "ename": "AttributeError",
     "evalue": "shape",
     "output_type": "error",
     "traceback": [
      "\u001b[1;31m---------------------------------------------------------------------------\u001b[0m",
      "\u001b[1;31mKeyError\u001b[0m                                  Traceback (most recent call last)",
      "\u001b[1;32m~\\Anaconda3\\lib\\site-packages\\sklearn\\utils\\__init__.py\u001b[0m in \u001b[0;36m__getattr__\u001b[1;34m(self, key)\u001b[0m\n\u001b[0;32m     60\u001b[0m         \u001b[1;32mtry\u001b[0m\u001b[1;33m:\u001b[0m\u001b[1;33m\u001b[0m\u001b[0m\n\u001b[1;32m---> 61\u001b[1;33m             \u001b[1;32mreturn\u001b[0m \u001b[0mself\u001b[0m\u001b[1;33m[\u001b[0m\u001b[0mkey\u001b[0m\u001b[1;33m]\u001b[0m\u001b[1;33m\u001b[0m\u001b[0m\n\u001b[0m\u001b[0;32m     62\u001b[0m         \u001b[1;32mexcept\u001b[0m \u001b[0mKeyError\u001b[0m\u001b[1;33m:\u001b[0m\u001b[1;33m\u001b[0m\u001b[0m\n",
      "\u001b[1;31mKeyError\u001b[0m: 'shape'",
      "\nDuring handling of the above exception, another exception occurred:\n",
      "\u001b[1;31mAttributeError\u001b[0m                            Traceback (most recent call last)",
      "\u001b[1;32m<ipython-input-67-1d13e6a441c9>\u001b[0m in \u001b[0;36m<module>\u001b[1;34m()\u001b[0m\n\u001b[0;32m      1\u001b[0m \u001b[0mdata\u001b[0m\u001b[1;33m.\u001b[0m\u001b[0mtarget\u001b[0m\u001b[1;33m\u001b[0m\u001b[0m\n\u001b[1;32m----> 2\u001b[1;33m \u001b[0mdata\u001b[0m\u001b[1;33m.\u001b[0m\u001b[0mshape\u001b[0m\u001b[1;33m(\u001b[0m\u001b[1;33m)\u001b[0m\u001b[1;33m\u001b[0m\u001b[0m\n\u001b[0m",
      "\u001b[1;32m~\\Anaconda3\\lib\\site-packages\\sklearn\\utils\\__init__.py\u001b[0m in \u001b[0;36m__getattr__\u001b[1;34m(self, key)\u001b[0m\n\u001b[0;32m     61\u001b[0m             \u001b[1;32mreturn\u001b[0m \u001b[0mself\u001b[0m\u001b[1;33m[\u001b[0m\u001b[0mkey\u001b[0m\u001b[1;33m]\u001b[0m\u001b[1;33m\u001b[0m\u001b[0m\n\u001b[0;32m     62\u001b[0m         \u001b[1;32mexcept\u001b[0m \u001b[0mKeyError\u001b[0m\u001b[1;33m:\u001b[0m\u001b[1;33m\u001b[0m\u001b[0m\n\u001b[1;32m---> 63\u001b[1;33m             \u001b[1;32mraise\u001b[0m \u001b[0mAttributeError\u001b[0m\u001b[1;33m(\u001b[0m\u001b[0mkey\u001b[0m\u001b[1;33m)\u001b[0m\u001b[1;33m\u001b[0m\u001b[0m\n\u001b[0m\u001b[0;32m     64\u001b[0m \u001b[1;33m\u001b[0m\u001b[0m\n\u001b[0;32m     65\u001b[0m     \u001b[1;32mdef\u001b[0m \u001b[0m__setstate__\u001b[0m\u001b[1;33m(\u001b[0m\u001b[0mself\u001b[0m\u001b[1;33m,\u001b[0m \u001b[0mstate\u001b[0m\u001b[1;33m)\u001b[0m\u001b[1;33m:\u001b[0m\u001b[1;33m\u001b[0m\u001b[0m\n",
      "\u001b[1;31mAttributeError\u001b[0m: shape"
     ]
    }
   ],
   "source": [
    "data.target\n"
   ]
  },
  {
   "cell_type": "code",
   "execution_count": 51,
   "metadata": {},
   "outputs": [
    {
     "data": {
      "text/plain": [
       "array([[1.423e+01, 1.710e+00, 2.430e+00, ..., 1.040e+00, 3.920e+00,\n",
       "        1.065e+03],\n",
       "       [1.320e+01, 1.780e+00, 2.140e+00, ..., 1.050e+00, 3.400e+00,\n",
       "        1.050e+03],\n",
       "       [1.316e+01, 2.360e+00, 2.670e+00, ..., 1.030e+00, 3.170e+00,\n",
       "        1.185e+03],\n",
       "       ...,\n",
       "       [1.327e+01, 4.280e+00, 2.260e+00, ..., 5.900e-01, 1.560e+00,\n",
       "        8.350e+02],\n",
       "       [1.317e+01, 2.590e+00, 2.370e+00, ..., 6.000e-01, 1.620e+00,\n",
       "        8.400e+02],\n",
       "       [1.413e+01, 4.100e+00, 2.740e+00, ..., 6.100e-01, 1.600e+00,\n",
       "        5.600e+02]])"
      ]
     },
     "execution_count": 51,
     "metadata": {},
     "output_type": "execute_result"
    }
   ],
   "source": [
    "data.data"
   ]
  },
  {
   "cell_type": "code",
   "execution_count": 72,
   "metadata": {},
   "outputs": [
    {
     "data": {
      "text/plain": [
       "dict_keys(['data', 'target', 'target_names', 'DESCR', 'feature_names'])"
      ]
     },
     "execution_count": 72,
     "metadata": {},
     "output_type": "execute_result"
    }
   ],
   "source": [
    "data.keys()"
   ]
  },
  {
   "cell_type": "code",
   "execution_count": 70,
   "metadata": {},
   "outputs": [],
   "source": [
    "def convertCollumns(collumns):\n",
    "    newCol=[]\n",
    "    colMean=np.mean(collumns)\n",
    "    colStd=np.std(collumns)\n",
    "    for x in np.nditer(collumns):\n",
    "        newCol.append(((x-colMean)/colStd))\n",
    "    return newCol  "
   ]
  },
  {
   "cell_type": "code",
   "execution_count": 73,
   "metadata": {},
   "outputs": [
    {
     "data": {
      "text/plain": [
       "array([[2.8 ],\n",
       "       [2.65],\n",
       "       [2.8 ],\n",
       "       [3.85],\n",
       "       [2.8 ],\n",
       "       [3.27],\n",
       "       [2.5 ],\n",
       "       [2.6 ],\n",
       "       [2.8 ],\n",
       "       [2.98],\n",
       "       [2.95],\n",
       "       [2.2 ],\n",
       "       [2.6 ],\n",
       "       [3.1 ],\n",
       "       [3.3 ],\n",
       "       [2.85],\n",
       "       [2.8 ],\n",
       "       [2.95],\n",
       "       [3.3 ],\n",
       "       [2.7 ],\n",
       "       [3.  ],\n",
       "       [2.41],\n",
       "       [2.61],\n",
       "       [2.48],\n",
       "       [2.53],\n",
       "       [2.63],\n",
       "       [2.85],\n",
       "       [2.4 ],\n",
       "       [2.95],\n",
       "       [2.65],\n",
       "       [3.  ],\n",
       "       [2.86],\n",
       "       [2.42],\n",
       "       [2.95],\n",
       "       [2.35],\n",
       "       [2.7 ],\n",
       "       [2.6 ],\n",
       "       [2.45],\n",
       "       [2.4 ],\n",
       "       [3.  ],\n",
       "       [3.15],\n",
       "       [2.45],\n",
       "       [3.25],\n",
       "       [2.64],\n",
       "       [3.  ],\n",
       "       [2.85],\n",
       "       [3.25],\n",
       "       [3.1 ],\n",
       "       [2.75],\n",
       "       [2.88],\n",
       "       [2.72],\n",
       "       [2.45],\n",
       "       [3.88],\n",
       "       [3.  ],\n",
       "       [2.6 ],\n",
       "       [2.96],\n",
       "       [3.2 ],\n",
       "       [3.  ],\n",
       "       [3.4 ],\n",
       "       [1.98],\n",
       "       [2.05],\n",
       "       [2.02],\n",
       "       [2.1 ],\n",
       "       [3.5 ],\n",
       "       [1.89],\n",
       "       [2.42],\n",
       "       [2.98],\n",
       "       [2.11],\n",
       "       [2.53],\n",
       "       [1.85],\n",
       "       [1.1 ],\n",
       "       [2.95],\n",
       "       [1.88],\n",
       "       [3.3 ],\n",
       "       [3.38],\n",
       "       [1.61],\n",
       "       [1.95],\n",
       "       [1.72],\n",
       "       [1.9 ],\n",
       "       [2.83],\n",
       "       [2.42],\n",
       "       [2.2 ],\n",
       "       [2.  ],\n",
       "       [1.65],\n",
       "       [2.2 ],\n",
       "       [2.2 ],\n",
       "       [1.78],\n",
       "       [1.92],\n",
       "       [1.95],\n",
       "       [2.2 ],\n",
       "       [1.6 ],\n",
       "       [1.45],\n",
       "       [1.38],\n",
       "       [2.45],\n",
       "       [3.02],\n",
       "       [2.5 ],\n",
       "       [1.6 ],\n",
       "       [2.55],\n",
       "       [3.52],\n",
       "       [2.85],\n",
       "       [2.23],\n",
       "       [1.45],\n",
       "       [2.56],\n",
       "       [2.5 ],\n",
       "       [2.2 ],\n",
       "       [1.68],\n",
       "       [1.65],\n",
       "       [1.38],\n",
       "       [2.36],\n",
       "       [2.74],\n",
       "       [3.18],\n",
       "       [2.55],\n",
       "       [1.75],\n",
       "       [2.48],\n",
       "       [2.56],\n",
       "       [2.46],\n",
       "       [1.98],\n",
       "       [2.  ],\n",
       "       [1.63],\n",
       "       [2.  ],\n",
       "       [2.9 ],\n",
       "       [3.18],\n",
       "       [2.2 ],\n",
       "       [2.62],\n",
       "       [2.86],\n",
       "       [2.6 ],\n",
       "       [2.74],\n",
       "       [2.13],\n",
       "       [2.22],\n",
       "       [2.1 ],\n",
       "       [1.51],\n",
       "       [1.3 ],\n",
       "       [1.15],\n",
       "       [1.7 ],\n",
       "       [2.  ],\n",
       "       [1.62],\n",
       "       [1.38],\n",
       "       [1.79],\n",
       "       [1.62],\n",
       "       [2.32],\n",
       "       [1.54],\n",
       "       [1.4 ],\n",
       "       [1.55],\n",
       "       [2.  ],\n",
       "       [1.38],\n",
       "       [1.5 ],\n",
       "       [0.98],\n",
       "       [1.7 ],\n",
       "       [1.93],\n",
       "       [1.41],\n",
       "       [1.4 ],\n",
       "       [1.48],\n",
       "       [2.2 ],\n",
       "       [1.8 ],\n",
       "       [1.48],\n",
       "       [1.74],\n",
       "       [1.8 ],\n",
       "       [1.9 ],\n",
       "       [2.8 ],\n",
       "       [2.6 ],\n",
       "       [2.3 ],\n",
       "       [1.83],\n",
       "       [1.65],\n",
       "       [1.39],\n",
       "       [1.35],\n",
       "       [1.28],\n",
       "       [1.7 ],\n",
       "       [1.48],\n",
       "       [1.55],\n",
       "       [1.98],\n",
       "       [1.25],\n",
       "       [1.39],\n",
       "       [1.68],\n",
       "       [1.68],\n",
       "       [1.8 ],\n",
       "       [1.59],\n",
       "       [1.65],\n",
       "       [2.05]])"
      ]
     },
     "execution_count": 73,
     "metadata": {},
     "output_type": "execute_result"
    }
   ],
   "source": [
    "col1=data.data[:,0:1]\n",
    "col2=data.data[:,1:2]\n",
    "col3=data.data[:,2:3]\n",
    "col4=data.data[:,3:4]\n",
    "col5=data.data[:,4:5]\n",
    "col6=data.data[:,5:6]\n"
   ]
  },
  {
   "cell_type": "code",
   "execution_count": 57,
   "metadata": {},
   "outputs": [],
   "source": [
    "standardizedCol1=convertCollumns(col1)"
   ]
  },
  {
   "cell_type": "code",
   "execution_count": 60,
   "metadata": {},
   "outputs": [
    {
     "data": {
      "text/plain": [
       "-8.382807556720283e-16"
      ]
     },
     "execution_count": 60,
     "metadata": {},
     "output_type": "execute_result"
    }
   ],
   "source": [
    "np.mean(standardizedCol1)"
   ]
  },
  {
   "cell_type": "code",
   "execution_count": null,
   "metadata": {},
   "outputs": [],
   "source": []
  },
  {
   "cell_type": "code",
   "execution_count": 39,
   "metadata": {},
   "outputs": [],
   "source": [
    "mean1 = (data.data[:,:1]).mean()"
   ]
  },
  {
   "cell_type": "code",
   "execution_count": 40,
   "metadata": {},
   "outputs": [],
   "source": [
    "std1 = (data.data[:,:1]).std()"
   ]
  },
  {
   "cell_type": "code",
   "execution_count": 24,
   "metadata": {},
   "outputs": [],
   "source": []
  },
  {
   "cell_type": "code",
   "execution_count": 25,
   "metadata": {},
   "outputs": [],
   "source": []
  },
  {
   "cell_type": "code",
   "execution_count": 34,
   "metadata": {},
   "outputs": [],
   "source": [
    "newCol1=[]\n"
   ]
  },
  {
   "cell_type": "code",
   "execution_count": 42,
   "metadata": {},
   "outputs": [],
   "source": []
  },
  {
   "cell_type": "code",
   "execution_count": 45,
   "metadata": {},
   "outputs": [
    {
     "data": {
      "text/plain": [
       "0"
      ]
     },
     "execution_count": 45,
     "metadata": {},
     "output_type": "execute_result"
    }
   ],
   "source": []
  },
  {
   "cell_type": "code",
   "execution_count": null,
   "metadata": {},
   "outputs": [],
   "source": []
  }
 ],
 "metadata": {
  "kernelspec": {
   "display_name": "Python 3",
   "language": "python",
   "name": "python3"
  },
  "language_info": {
   "codemirror_mode": {
    "name": "ipython",
    "version": 3
   },
   "file_extension": ".py",
   "mimetype": "text/x-python",
   "name": "python",
   "nbconvert_exporter": "python",
   "pygments_lexer": "ipython3",
   "version": "3.6.4"
  }
 },
 "nbformat": 4,
 "nbformat_minor": 2
}
